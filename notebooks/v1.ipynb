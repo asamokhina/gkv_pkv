{
  "cells": [
    {
      "cell_type": "code",
      "execution_count": null,
      "metadata": {
        "id": "25P278SgdALT"
      },
      "outputs": [],
      "source": [
        "import numpy as np\n",
        "import pandas as pd"
      ]
    },
    {
      "cell_type": "code",
      "execution_count": null,
      "metadata": {
        "id": "9jXnzpU0tG-Y"
      },
      "outputs": [],
      "source": [
        "from pathlib import Path\n",
        "\n",
        "root_dir = Path(\"../.data/\").resolve()"
      ]
    },
    {
      "cell_type": "code",
      "execution_count": null,
      "metadata": {
        "colab": {
          "base_uri": "https://localhost:8080/",
          "height": 314
        },
        "id": "EIrfwwCXF77r",
        "outputId": "d6f48c0d-1753-4cd8-9081-867227179a35"
      },
      "outputs": [],
      "source": [
        "df_pkv = pd.read_csv(root_dir / \"pkv-entwicklung-vpi.csv\", sep=\";\")\n",
        "df_pkv[\"percent\"] = df_pkv[\"Beitrag zur privaten Krankenversicherung\"].pct_change()\n",
        "df_pkv[\"percent\"].iloc[0] = 0\n",
        "df_pkv.head()"
      ]
    },
    {
      "cell_type": "code",
      "execution_count": null,
      "metadata": {
        "colab": {
          "base_uri": "https://localhost:8080/"
        },
        "id": "gvKfVnKiG-KF",
        "outputId": "49a18b87-5832-4689-8778-19d6639dfbfc"
      },
      "outputs": [],
      "source": [
        "df_pkv.columns"
      ]
    },
    {
      "cell_type": "code",
      "execution_count": null,
      "metadata": {
        "colab": {
          "base_uri": "https://localhost:8080/",
          "height": 204
        },
        "id": "ZpcvhSycdALT",
        "outputId": "62fe4a5c-2dab-4f2a-a129-85aae1e78d10"
      },
      "outputs": [],
      "source": [
        "df_insurance = pd.read_csv(root_dir / \"contribution_rates.csv\")\n",
        "df_insurance.head()"
      ]
    },
    {
      "cell_type": "code",
      "execution_count": null,
      "metadata": {
        "colab": {
          "base_uri": "https://localhost:8080/",
          "height": 204
        },
        "id": "LZPDYsKbdALT",
        "outputId": "8709bfa4-1c14-41d2-950c-40df17893587"
      },
      "outputs": [],
      "source": [
        "df_zusatz = pd.read_csv(root_dir / \"additional_contribution_rates_with_increase.csv\")\n",
        "df_zusatz.head()"
      ]
    },
    {
      "cell_type": "code",
      "execution_count": null,
      "metadata": {
        "id": "2zXupjxptEud"
      },
      "outputs": [],
      "source": []
    },
    {
      "cell_type": "code",
      "execution_count": null,
      "metadata": {
        "colab": {
          "base_uri": "https://localhost:8080/"
        },
        "id": "UNiTJWXDdALT",
        "outputId": "2789bf9f-5fd6-4950-c5a0-3abe8b16ab76"
      },
      "outputs": [],
      "source": [
        "insurance_increase = df_insurance[\"Yearly Increase (%)\"].values[1:]\n",
        "insurance_increase"
      ]
    },
    {
      "cell_type": "code",
      "execution_count": null,
      "metadata": {
        "colab": {
          "base_uri": "https://localhost:8080/",
          "height": 204
        },
        "id": "tCoSRbovdALU",
        "outputId": "97c64a15-2e56-42d8-de50-289736039648"
      },
      "outputs": [],
      "source": [
        "renteanpassung = pd.read_csv(\n",
        "    root_dir / \"rentenanpassung-verbraucherpreisindex.csv\", sep=\";\"\n",
        ")\n",
        "renteanpassung.head()"
      ]
    },
    {
      "cell_type": "code",
      "execution_count": null,
      "metadata": {
        "colab": {
          "base_uri": "https://localhost:8080/"
        },
        "id": "zdonszV5dALU",
        "outputId": "f863cdb2-d8dc-450d-bee5-87326bea8c21"
      },
      "outputs": [],
      "source": [
        "zusatz_increase = df_zusatz[\"Yearly Increase (%)\"].values[1:]\n",
        "zusatz_increase"
      ]
    },
    {
      "cell_type": "code",
      "execution_count": null,
      "metadata": {
        "colab": {
          "base_uri": "https://localhost:8080/"
        },
        "id": "zbzHT3QvdALU",
        "outputId": "0acaf6cc-d5bd-4500-b99c-fe1adacd4433"
      },
      "outputs": [],
      "source": [
        "zusatz_percentage = [\n",
        "    x / 100 for x in df_zusatz[\"Average Additional Contribution Rate (%)\"].values\n",
        "]\n",
        "zusatz_percentage"
      ]
    },
    {
      "cell_type": "code",
      "execution_count": null,
      "metadata": {
        "colab": {
          "base_uri": "https://localhost:8080/",
          "height": 235
        },
        "id": "9uEcM2s7dALU",
        "outputId": "e77dc2d0-2ba1-4360-fbe2-601de29aa12f"
      },
      "outputs": [],
      "source": [
        "df = pd.read_csv(root_dir / \"gkv_contribution_rates.csv\")\n",
        "df[\"BBG (Month)\"] = df[\"BBG (Month)\"] / 100\n",
        "df[\"Average GKV Contribution Rate (%)\"] = (\n",
        "    df[\"Average GKV Contribution Rate (%)\"].str.replace(\",\", \".\").astype(float)\n",
        ")\n",
        "df.index = df[\"Year\"]\n",
        "df = df.drop(columns=[\"Year\"])\n",
        "df = df.sort_index()\n",
        "df[\"BBG (Month) pct\"] = df[\"BBG (Month)\"].pct_change()\n",
        "df[\"BBG (Month) pct\"].iloc[0] = 0\n",
        "df.head()"
      ]
    },
    {
      "cell_type": "code",
      "execution_count": null,
      "metadata": {
        "id": "kIqhJE4udALU"
      },
      "outputs": [],
      "source": [
        "# hochstbeitrag_2024 = 843\n",
        "# age_2024 = 30\n",
        "# age_rente = 72\n",
        "# expected_life = 90\n",
        "# rente_anspruch = 2500\n",
        "\n",
        "# zusatz_percent_2024 = df_zusatz[\"Average Additional Contribution Rate (%)\"].iloc[-1]\n",
        "# zusatz_value = 5175 * (zusatz_percent_2024/100)\n"
      ]
    },
    {
      "cell_type": "code",
      "execution_count": null,
      "metadata": {
        "id": "lhJqbCsUvYdp"
      },
      "outputs": [],
      "source": [
        "max_salary_for_gkv = df[\"BBG (Month)\"].loc[2023]\n",
        "gkv_percent = df[\"Average GKV Contribution Rate (%)\"].loc[2023] / 100\n",
        "gkv_basis_cost = max_salary_for_gkv * gkv_percent\n",
        "zusatz_percent = df_zusatz[\"Average Additional Contribution Rate (%)\"].iloc[-1] / 100\n",
        "zusatz_cost = max_salary_for_gkv * zusatz_percent\n",
        "\n",
        "pkv_cost = 300\n",
        "\n",
        "age_at_start = 30\n",
        "no_pkv_extra = 60\n",
        "age_rente = 72\n",
        "expected_life = 90\n",
        "rente_anspruch = 2500\n",
        "kid_pkv_cost = 100\n",
        "kids = [[30, 48], [32, 50]]"
      ]
    },
    {
      "cell_type": "code",
      "execution_count": null,
      "metadata": {
        "colab": {
          "base_uri": "https://localhost:8080/"
        },
        "id": "clilh3Pxw6vH",
        "outputId": "73c85f11-8c0a-4ad1-c45e-a54683dfe89f"
      },
      "outputs": [],
      "source": [
        "zusatz_percent"
      ]
    },
    {
      "cell_type": "code",
      "execution_count": null,
      "metadata": {
        "id": "dqU4FNQq-wJy"
      },
      "outputs": [],
      "source": [
        "max_salary_change_bag = df[\"BBG (Month) pct\"].values\n",
        "gkv_percent_bag = [x / 100 for x in df[\"Average GKV Contribution Rate (%)\"].values]\n",
        "zusatz_percent_bag = zusatz_percentage\n",
        "pkv_increase_bag = df_pkv[\"percent\"].values\n"
      ]
    },
    {
      "cell_type": "code",
      "execution_count": null,
      "metadata": {
        "colab": {
          "base_uri": "https://localhost:8080/"
        },
        "id": "BSmu3vLCdALU",
        "outputId": "04a1b578-f3eb-423f-a4d3-65581072d05e"
      },
      "outputs": [],
      "source": [
        "# one simulation\n",
        "salary = max_salary_for_gkv\n",
        "gkv_p = gkv_percent\n",
        "zusatz_p = zusatz_percent\n",
        "rente = rente_anspruch\n",
        "pkv = pkv_cost\n",
        "gkv_year_cost = []\n",
        "pkv_year_cost = []\n",
        "\n",
        "for year in range(age_at_start, age_rente):\n",
        "    salary_increase = np.random.choice(max_salary_change_bag)\n",
        "    salary = salary * (1 + salary_increase)\n",
        "    gkv_p = np.random.choice(gkv_percent_bag)\n",
        "    zusatz_p = np.random.choice(zusatz_percent_bag)\n",
        "\n",
        "    gkv_cost = 12 * (salary * gkv_p + salary * zusatz_p)\n",
        "    gkv_own_share_cost = gkv_cost / 2\n",
        "    gkv_year_cost.append(gkv_own_share_cost)\n",
        "\n",
        "    # print(f\"{salary_increase=}, {salary=}, {gkv_p=}, {zusatz_p=}\")\n",
        "\n",
        "    rente_increase = np.random.choice(renteanpassung[\"Rentenanpassung West\"].values)\n",
        "    rente = rente * (1 + rente_increase / 100)\n",
        "\n",
        "    pkv_increase = np.random.choice(pkv_increase_bag)\n",
        "    pkv = pkv * (1 + pkv_increase)\n",
        "\n",
        "    if year == no_pkv_extra:\n",
        "        pkv = pkv * 0.9\n",
        "\n",
        "    pkv_cost = 12 * pkv\n",
        "\n",
        "    if kids:\n",
        "        for kid in kids:\n",
        "            # start and end of care years\n",
        "            if year > kid[0] and year < kid[1]:\n",
        "                pkv_cost += kid_pkv_cost * 12\n",
        "\n",
        "    own_share_cost = pkv_cost / 2\n",
        "    pkv_year_cost.append(own_share_cost)\n",
        "\n",
        "    print(f\"{year}: GKV: {gkv_cost/12}, PKV: {pkv_cost/12}, Rente: {rente}\")\n",
        "\n",
        "for year in range(age_rente, expected_life):\n",
        "    rente_increase = np.random.choice(renteanpassung[\"Rentenanpassung West\"].values)\n",
        "    rente = rente * (1 + rente_increase / 100)\n",
        "\n",
        "    gkv_p = np.random.choice(gkv_percent_bag)\n",
        "    zusatz_p = np.random.choice(zusatz_percent_bag)\n",
        "\n",
        "    gkv_cost = 12 * (rente * gkv_p + rente * zusatz_p)\n",
        "    gkv_own_share_cost = gkv_cost / 2\n",
        "    gkv_year_cost.append(gkv_own_share_cost)\n",
        "\n",
        "    pkv_increase = np.random.choice(pkv_increase_bag)\n",
        "    pkv = pkv * (1 + pkv_increase)\n",
        "\n",
        "    pkv_cost = 12 * pkv\n",
        "\n",
        "    if kids:\n",
        "        for kid in kids:\n",
        "            # start and end of care years\n",
        "            if year > kid[0] and year < kid[1]:\n",
        "                pkv_cost += kid_pkv_cost * 12\n",
        "\n",
        "    own_share_cost = pkv_cost - gkv_own_share_cost\n",
        "    pkv_year_cost.append(own_share_cost)\n",
        "\n",
        "    print(f\"{rente=}, GKV: {gkv_cost/12}, PKV: {pkv_cost/12}\")\n",
        "\n",
        "print(f\"GKV: {sum(gkv_year_cost)}, PKV: {sum(pkv_year_cost)}\")\n"
      ]
    },
    {
      "cell_type": "code",
      "execution_count": null,
      "metadata": {
        "id": "xVOhsQsVdALU",
        "outputId": "5a28ddf2-4c56-4a47-f1d0-61350b977b9d"
      },
      "outputs": [],
      "source": [
        "zusatz_percent"
      ]
    },
    {
      "cell_type": "code",
      "execution_count": null,
      "metadata": {},
      "outputs": [],
      "source": []
    }
  ],
  "metadata": {
    "colab": {
      "provenance": []
    },
    "kernelspec": {
      "display_name": "gkv",
      "language": "python",
      "name": "python3"
    },
    "language_info": {
      "codemirror_mode": {
        "name": "ipython",
        "version": 3
      },
      "file_extension": ".py",
      "mimetype": "text/x-python",
      "name": "python",
      "nbconvert_exporter": "python",
      "pygments_lexer": "ipython3",
      "version": "3.11.9"
    }
  },
  "nbformat": 4,
  "nbformat_minor": 0
}
