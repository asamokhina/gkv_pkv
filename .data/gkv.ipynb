{
 "cells": [
  {
   "cell_type": "code",
   "execution_count": 3,
   "metadata": {},
   "outputs": [
    {
     "name": "stdout",
     "output_type": "stream",
     "text": [
      "Collecting pandas\n",
      "  Obtaining dependency information for pandas from https://files.pythonhosted.org/packages/16/c6/75231fd47afd6b3f89011e7077f1a3958441264aca7ae9ff596e3276a5d0/pandas-2.2.2-cp311-cp311-macosx_11_0_arm64.whl.metadata\n",
      "  Using cached pandas-2.2.2-cp311-cp311-macosx_11_0_arm64.whl.metadata (19 kB)\n",
      "Collecting numpy>=1.23.2 (from pandas)\n",
      "  Obtaining dependency information for numpy>=1.23.2 from https://files.pythonhosted.org/packages/d1/d8/597b4b2e396a77cbec677c9de33bb1789d5c3b66d653cb723d00eb331e99/numpy-2.0.1-cp311-cp311-macosx_14_0_arm64.whl.metadata\n",
      "\u001b[33m  WARNING: Retrying (Retry(total=4, connect=None, read=None, redirect=None, status=None)) after connection broken by 'ConnectTimeoutError(<pip._vendor.urllib3.connection.HTTPSConnection object at 0x10e330850>, 'Connection to files.pythonhosted.org timed out. (connect timeout=15)')': /packages/d1/d8/597b4b2e396a77cbec677c9de33bb1789d5c3b66d653cb723d00eb331e99/numpy-2.0.1-cp311-cp311-macosx_14_0_arm64.whl.metadata\u001b[0m\u001b[33m\n",
      "\u001b[0m  Downloading numpy-2.0.1-cp311-cp311-macosx_14_0_arm64.whl.metadata (60 kB)\n",
      "\u001b[2K     \u001b[90m━━━━━━━━━━━━━━━━━━━━━━━━━━━━━━━━━━━━━━━━\u001b[0m \u001b[32m60.9/60.9 kB\u001b[0m \u001b[31m78.2 kB/s\u001b[0m eta \u001b[36m0:00:00\u001b[0ma \u001b[36m0:00:01\u001b[0m\n",
      "\u001b[?25hRequirement already satisfied: python-dateutil>=2.8.2 in /Users/anastasia.samokhina/.pyenv/versions/3.11.6/envs/gkv/lib/python3.11/site-packages (from pandas) (2.9.0.post0)\n",
      "Collecting pytz>=2020.1 (from pandas)\n",
      "  Obtaining dependency information for pytz>=2020.1 from https://files.pythonhosted.org/packages/9c/3d/a121f284241f08268b21359bd425f7d4825cffc5ac5cd0e1b3d82ffd2b10/pytz-2024.1-py2.py3-none-any.whl.metadata\n",
      "  Using cached pytz-2024.1-py2.py3-none-any.whl.metadata (22 kB)\n",
      "Collecting tzdata>=2022.7 (from pandas)\n",
      "  Obtaining dependency information for tzdata>=2022.7 from https://files.pythonhosted.org/packages/65/58/f9c9e6be752e9fcb8b6a0ee9fb87e6e7a1f6bcab2cdc73f02bb7ba91ada0/tzdata-2024.1-py2.py3-none-any.whl.metadata\n",
      "  Using cached tzdata-2024.1-py2.py3-none-any.whl.metadata (1.4 kB)\n",
      "Requirement already satisfied: six>=1.5 in /Users/anastasia.samokhina/.pyenv/versions/3.11.6/envs/gkv/lib/python3.11/site-packages (from python-dateutil>=2.8.2->pandas) (1.16.0)\n",
      "Using cached pandas-2.2.2-cp311-cp311-macosx_11_0_arm64.whl (11.3 MB)\n",
      "Downloading numpy-2.0.1-cp311-cp311-macosx_14_0_arm64.whl (5.3 MB)\n",
      "\u001b[2K   \u001b[90m━━━━━━━━━━━━━━━━━━━━━━━━━━━━━━━━━━━━━━━━\u001b[0m \u001b[32m5.3/5.3 MB\u001b[0m \u001b[31m57.1 kB/s\u001b[0m eta \u001b[36m0:00:00\u001b[0m00:02\u001b[0m00:03\u001b[0m\n",
      "\u001b[?25hUsing cached pytz-2024.1-py2.py3-none-any.whl (505 kB)\n",
      "Using cached tzdata-2024.1-py2.py3-none-any.whl (345 kB)\n",
      "Installing collected packages: pytz, tzdata, numpy, pandas\n",
      "Successfully installed numpy-2.0.1 pandas-2.2.2 pytz-2024.1 tzdata-2024.1\n",
      "\n",
      "\u001b[1m[\u001b[0m\u001b[34;49mnotice\u001b[0m\u001b[1;39;49m]\u001b[0m\u001b[39;49m A new release of pip is available: \u001b[0m\u001b[31;49m23.2.1\u001b[0m\u001b[39;49m -> \u001b[0m\u001b[32;49m24.2\u001b[0m\n",
      "\u001b[1m[\u001b[0m\u001b[34;49mnotice\u001b[0m\u001b[1;39;49m]\u001b[0m\u001b[39;49m To update, run: \u001b[0m\u001b[32;49mpip install --upgrade pip\u001b[0m\n"
     ]
    }
   ],
   "source": [
    "! pip install pandas"
   ]
  },
  {
   "cell_type": "code",
   "execution_count": 2,
   "metadata": {},
   "outputs": [],
   "source": [
    "import pandas as pd\n",
    "import numpy as np"
   ]
  },
  {
   "cell_type": "code",
   "execution_count": 3,
   "metadata": {},
   "outputs": [
    {
     "data": {
      "text/html": [
       "<div>\n",
       "<style scoped>\n",
       "    .dataframe tbody tr th:only-of-type {\n",
       "        vertical-align: middle;\n",
       "    }\n",
       "\n",
       "    .dataframe tbody tr th {\n",
       "        vertical-align: top;\n",
       "    }\n",
       "\n",
       "    .dataframe thead th {\n",
       "        text-align: right;\n",
       "    }\n",
       "</style>\n",
       "<table border=\"1\" class=\"dataframe\">\n",
       "  <thead>\n",
       "    <tr style=\"text-align: right;\">\n",
       "      <th></th>\n",
       "      <th>Period</th>\n",
       "      <th>Contribution Rate (%)</th>\n",
       "      <th>Yearly Increase (%)</th>\n",
       "    </tr>\n",
       "  </thead>\n",
       "  <tbody>\n",
       "    <tr>\n",
       "      <th>0</th>\n",
       "      <td>1970</td>\n",
       "      <td>8.2</td>\n",
       "      <td>NaN</td>\n",
       "    </tr>\n",
       "    <tr>\n",
       "      <th>1</th>\n",
       "      <td>1975</td>\n",
       "      <td>10.5</td>\n",
       "      <td>28.048780</td>\n",
       "    </tr>\n",
       "    <tr>\n",
       "      <th>2</th>\n",
       "      <td>1980</td>\n",
       "      <td>11.4</td>\n",
       "      <td>8.571429</td>\n",
       "    </tr>\n",
       "    <tr>\n",
       "      <th>3</th>\n",
       "      <td>1985</td>\n",
       "      <td>11.8</td>\n",
       "      <td>3.508772</td>\n",
       "    </tr>\n",
       "    <tr>\n",
       "      <th>4</th>\n",
       "      <td>1990</td>\n",
       "      <td>12.5</td>\n",
       "      <td>5.932203</td>\n",
       "    </tr>\n",
       "  </tbody>\n",
       "</table>\n",
       "</div>"
      ],
      "text/plain": [
       "  Period  Contribution Rate (%)  Yearly Increase (%)\n",
       "0   1970                    8.2                  NaN\n",
       "1   1975                   10.5            28.048780\n",
       "2   1980                   11.4             8.571429\n",
       "3   1985                   11.8             3.508772\n",
       "4   1990                   12.5             5.932203"
      ]
     },
     "execution_count": 3,
     "metadata": {},
     "output_type": "execute_result"
    }
   ],
   "source": [
    "df_insurance = pd.read_csv('contribution_rates.csv')\n",
    "df_insurance.head()"
   ]
  },
  {
   "cell_type": "code",
   "execution_count": 4,
   "metadata": {},
   "outputs": [
    {
     "data": {
      "text/html": [
       "<div>\n",
       "<style scoped>\n",
       "    .dataframe tbody tr th:only-of-type {\n",
       "        vertical-align: middle;\n",
       "    }\n",
       "\n",
       "    .dataframe tbody tr th {\n",
       "        vertical-align: top;\n",
       "    }\n",
       "\n",
       "    .dataframe thead th {\n",
       "        text-align: right;\n",
       "    }\n",
       "</style>\n",
       "<table border=\"1\" class=\"dataframe\">\n",
       "  <thead>\n",
       "    <tr style=\"text-align: right;\">\n",
       "      <th></th>\n",
       "      <th>Year</th>\n",
       "      <th>Average Additional Contribution Rate (%)</th>\n",
       "      <th>Yearly Increase (%)</th>\n",
       "    </tr>\n",
       "  </thead>\n",
       "  <tbody>\n",
       "    <tr>\n",
       "      <th>0</th>\n",
       "      <td>2015</td>\n",
       "      <td>0.83</td>\n",
       "      <td>NaN</td>\n",
       "    </tr>\n",
       "    <tr>\n",
       "      <th>1</th>\n",
       "      <td>2016</td>\n",
       "      <td>1.08</td>\n",
       "      <td>30.120482</td>\n",
       "    </tr>\n",
       "    <tr>\n",
       "      <th>2</th>\n",
       "      <td>2017</td>\n",
       "      <td>1.11</td>\n",
       "      <td>2.777778</td>\n",
       "    </tr>\n",
       "    <tr>\n",
       "      <th>3</th>\n",
       "      <td>2018</td>\n",
       "      <td>1.08</td>\n",
       "      <td>-2.702703</td>\n",
       "    </tr>\n",
       "    <tr>\n",
       "      <th>4</th>\n",
       "      <td>2019</td>\n",
       "      <td>0.99</td>\n",
       "      <td>-8.333333</td>\n",
       "    </tr>\n",
       "  </tbody>\n",
       "</table>\n",
       "</div>"
      ],
      "text/plain": [
       "   Year  Average Additional Contribution Rate (%)  Yearly Increase (%)\n",
       "0  2015                                      0.83                  NaN\n",
       "1  2016                                      1.08            30.120482\n",
       "2  2017                                      1.11             2.777778\n",
       "3  2018                                      1.08            -2.702703\n",
       "4  2019                                      0.99            -8.333333"
      ]
     },
     "execution_count": 4,
     "metadata": {},
     "output_type": "execute_result"
    }
   ],
   "source": [
    "df_zusatz = pd.read_csv('additional_contribution_rates_with_increase.csv')\n",
    "df_zusatz.head()"
   ]
  },
  {
   "cell_type": "code",
   "execution_count": 5,
   "metadata": {},
   "outputs": [
    {
     "data": {
      "text/plain": [
       "array([28.04878049,  8.57142857,  3.50877193,  5.93220339,  5.6       ,\n",
       "        2.27272727,  0.74074074,  2.94117647,  2.14285714, -0.6993007 ,\n",
       "        0.        ,  0.        ,  0.        ,  4.22535211,  0.67567568,\n",
       "        4.02684564, -3.87096774,  4.02684564, -5.80645161,  0.        ,\n",
       "        0.        ,  0.        ,  0.        ])"
      ]
     },
     "execution_count": 5,
     "metadata": {},
     "output_type": "execute_result"
    }
   ],
   "source": [
    "insurance_increase = df_insurance['Yearly Increase (%)'].values[1:]\n",
    "insurance_increase"
   ]
  },
  {
   "cell_type": "code",
   "execution_count": 11,
   "metadata": {},
   "outputs": [
    {
     "data": {
      "text/html": [
       "<div>\n",
       "<style scoped>\n",
       "    .dataframe tbody tr th:only-of-type {\n",
       "        vertical-align: middle;\n",
       "    }\n",
       "\n",
       "    .dataframe tbody tr th {\n",
       "        vertical-align: top;\n",
       "    }\n",
       "\n",
       "    .dataframe thead th {\n",
       "        text-align: right;\n",
       "    }\n",
       "</style>\n",
       "<table border=\"1\" class=\"dataframe\">\n",
       "  <thead>\n",
       "    <tr style=\"text-align: right;\">\n",
       "      <th></th>\n",
       "      <th>Jahr</th>\n",
       "      <th>Rentenanpassung West</th>\n",
       "      <th>Rentenanpassung Ost</th>\n",
       "      <th>Verbraucherpreisindex</th>\n",
       "    </tr>\n",
       "  </thead>\n",
       "  <tbody>\n",
       "    <tr>\n",
       "      <th>0</th>\n",
       "      <td>2009</td>\n",
       "      <td>2.41</td>\n",
       "      <td>3.38</td>\n",
       "      <td>0.3</td>\n",
       "    </tr>\n",
       "    <tr>\n",
       "      <th>1</th>\n",
       "      <td>2010</td>\n",
       "      <td>0.00</td>\n",
       "      <td>0.00</td>\n",
       "      <td>1.1</td>\n",
       "    </tr>\n",
       "    <tr>\n",
       "      <th>2</th>\n",
       "      <td>2011</td>\n",
       "      <td>0.99</td>\n",
       "      <td>0.99</td>\n",
       "      <td>2.1</td>\n",
       "    </tr>\n",
       "    <tr>\n",
       "      <th>3</th>\n",
       "      <td>2012</td>\n",
       "      <td>2.18</td>\n",
       "      <td>2.26</td>\n",
       "      <td>2.0</td>\n",
       "    </tr>\n",
       "    <tr>\n",
       "      <th>4</th>\n",
       "      <td>2013</td>\n",
       "      <td>0.25</td>\n",
       "      <td>3.29</td>\n",
       "      <td>1.4</td>\n",
       "    </tr>\n",
       "  </tbody>\n",
       "</table>\n",
       "</div>"
      ],
      "text/plain": [
       "   Jahr  Rentenanpassung West  Rentenanpassung Ost  Verbraucherpreisindex\n",
       "0  2009                  2.41                 3.38                    0.3\n",
       "1  2010                  0.00                 0.00                    1.1\n",
       "2  2011                  0.99                 0.99                    2.1\n",
       "3  2012                  2.18                 2.26                    2.0\n",
       "4  2013                  0.25                 3.29                    1.4"
      ]
     },
     "execution_count": 11,
     "metadata": {},
     "output_type": "execute_result"
    }
   ],
   "source": [
    "renteanpassung = pd.read_csv('rentenanpassung-verbraucherpreisindex.csv', sep=';')\n",
    "renteanpassung.head()"
   ]
  },
  {
   "cell_type": "code",
   "execution_count": 6,
   "metadata": {},
   "outputs": [
    {
     "data": {
      "text/plain": [
       "array([30.12048193,  2.77777778, -2.7027027 , -8.33333333,  1.01010101,\n",
       "       28.        ,  6.25      , 11.02941176, 12.58278146])"
      ]
     },
     "execution_count": 6,
     "metadata": {},
     "output_type": "execute_result"
    }
   ],
   "source": [
    "zusatz_increase = df_zusatz['Yearly Increase (%)'].values[1:]\n",
    "zusatz_increase"
   ]
  },
  {
   "cell_type": "code",
   "execution_count": 21,
   "metadata": {},
   "outputs": [
    {
     "data": {
      "text/plain": [
       "array([0.83, 1.08, 1.11, 1.08, 0.99, 1.  , 1.28, 1.36, 1.51, 1.7 ])"
      ]
     },
     "execution_count": 21,
     "metadata": {},
     "output_type": "execute_result"
    }
   ],
   "source": [
    "zusatz_percentage = df_zusatz['Average Additional Contribution Rate (%)'].values\n",
    "zusatz_percentage"
   ]
  },
  {
   "cell_type": "code",
   "execution_count": 26,
   "metadata": {},
   "outputs": [
    {
     "data": {
      "text/html": [
       "<div>\n",
       "<style scoped>\n",
       "    .dataframe tbody tr th:only-of-type {\n",
       "        vertical-align: middle;\n",
       "    }\n",
       "\n",
       "    .dataframe tbody tr th {\n",
       "        vertical-align: top;\n",
       "    }\n",
       "\n",
       "    .dataframe thead th {\n",
       "        text-align: right;\n",
       "    }\n",
       "</style>\n",
       "<table border=\"1\" class=\"dataframe\">\n",
       "  <thead>\n",
       "    <tr style=\"text-align: right;\">\n",
       "      <th></th>\n",
       "      <th>BBG (Month)</th>\n",
       "      <th>BBG (Year)</th>\n",
       "      <th>Average GKV Contribution Rate (%)</th>\n",
       "    </tr>\n",
       "    <tr>\n",
       "      <th>Year</th>\n",
       "      <th></th>\n",
       "      <th></th>\n",
       "      <th></th>\n",
       "    </tr>\n",
       "  </thead>\n",
       "  <tbody>\n",
       "    <tr>\n",
       "      <th>2023</th>\n",
       "      <td>4987.5</td>\n",
       "      <td>59850.0</td>\n",
       "      <td>14,6</td>\n",
       "    </tr>\n",
       "    <tr>\n",
       "      <th>2022</th>\n",
       "      <td>4837.5</td>\n",
       "      <td>58050.0</td>\n",
       "      <td>14,6</td>\n",
       "    </tr>\n",
       "    <tr>\n",
       "      <th>2021</th>\n",
       "      <td>4837.5</td>\n",
       "      <td>58050.0</td>\n",
       "      <td>14,6</td>\n",
       "    </tr>\n",
       "    <tr>\n",
       "      <th>2020</th>\n",
       "      <td>4687.5</td>\n",
       "      <td>56250.0</td>\n",
       "      <td>14,6</td>\n",
       "    </tr>\n",
       "    <tr>\n",
       "      <th>2019</th>\n",
       "      <td>4537.5</td>\n",
       "      <td>54450.0</td>\n",
       "      <td>14,6</td>\n",
       "    </tr>\n",
       "  </tbody>\n",
       "</table>\n",
       "</div>"
      ],
      "text/plain": [
       "      BBG (Month)  BBG (Year) Average GKV Contribution Rate (%)\n",
       "Year                                                           \n",
       "2023       4987.5     59850.0                              14,6\n",
       "2022       4837.5     58050.0                              14,6\n",
       "2021       4837.5     58050.0                              14,6\n",
       "2020       4687.5     56250.0                              14,6\n",
       "2019       4537.5     54450.0                              14,6"
      ]
     },
     "execution_count": 26,
     "metadata": {},
     "output_type": "execute_result"
    }
   ],
   "source": [
    "df = pd.read_csv('gkv_contribution_rates.csv')\n",
    "df['BBG (Month)'] = df['BBG (Month)'] / 100\n",
    "df.index = df['Year']\n",
    "df = df.drop(columns=['Year'])\n",
    "df.head()"
   ]
  },
  {
   "cell_type": "code",
   "execution_count": 13,
   "metadata": {},
   "outputs": [],
   "source": [
    "hochstbeitrag_2024 = 843\n",
    "age_2024 = 30\n",
    "age_rente = 72\n",
    "expected_life = 90\n",
    "rente_anspruch = 2500\n",
    "\n",
    "zusatz_percent_2024 = df_zusatz[\"Average Additional Contribution Rate (%)\"].iloc[-1]\n",
    "zusatz_value = 5175 * (zusatz_percent_2024/100)\n"
   ]
  },
  {
   "cell_type": "code",
   "execution_count": 17,
   "metadata": {},
   "outputs": [
    {
     "name": "stdout",
     "output_type": "stream",
     "text": [
      "Year 30: 861.06 + 97.68 = 958.74\n",
      "Year 31: 861.06 + 100.39 = 961.46\n",
      "Year 32: 861.06 + 106.67 = 967.73\n",
      "Year 33: 861.06 + 136.53 = 997.60\n",
      "Year 34: 861.06 + 145.07 = 1006.13\n",
      "Year 35: 912.14 + 146.53 = 1058.68\n",
      "Year 36: 912.14 + 187.56 = 1099.70\n",
      "Year 37: 963.22 + 199.28 = 1162.51\n",
      "Year 38: 963.22 + 255.08 = 1218.31\n",
      "Year 39: 963.22 + 331.91 = 1295.14\n",
      "Year 40: 925.94 + 431.89 = 1357.82\n",
      "Year 41: 945.78 + 436.25 = 1382.03\n",
      "Year 42: 985.74 + 399.89 = 1385.64\n",
      "Year 43: 1070.23 + 511.87 = 1582.10\n",
      "Year 44: 1008.09 + 666.04 = 1674.13\n",
      "Year 45: 1050.69 + 707.67 = 1758.36\n",
      "Year 46: 1050.69 + 688.54 = 1739.23\n",
      "Year 47: 1057.79 + 669.93 = 1727.72\n",
      "Year 48: 1057.79 + 857.52 = 1915.30\n",
      "Year 49: 1102.48 + 1097.62 = 2200.10\n",
      "Year 50: 1102.48 + 1428.23 = 2530.71\n",
      "Year 51: 1094.77 + 1858.42 = 2953.19\n",
      "Year 52: 1156.08 + 2378.77 = 3534.85\n",
      "Year 53: 1180.85 + 3044.83 = 4225.68\n",
      "Year 54: 1206.16 + 2962.54 = 4168.69\n",
      "Year 55: 1254.73 + 3854.87 = 5109.59\n",
      "Year 56: 1254.73 + 3750.68 = 5005.41\n",
      "Year 57: 1254.73 + 3438.12 = 4692.85\n",
      "Year 58: 1254.73 + 3817.33 = 5072.06\n",
      "Year 59: 1245.95 + 4055.91 = 5301.87\n",
      "Year 60: 1274.27 + 4566.26 = 5840.53\n",
      "Year 61: 1224.94 + 5941.64 = 7166.58\n",
      "Year 62: 1177.53 + 6689.26 = 7866.79\n",
      "Year 63: 1212.16 + 8704.10 = 9916.26\n",
      "Year 64: 1239.71 + 7978.76 = 9218.47\n",
      "Year 65: 1276.17 + 7313.86 = 8590.03\n",
      "Year 66: 1305.17 + 8120.54 = 9425.71\n",
      "Year 67: 1229.39 + 7443.83 = 8673.22\n",
      "Year 68: 1229.39 + 7650.60 = 8879.99\n",
      "Year 69: 1574.22 + 9955.00 = 11529.21\n",
      "Year 70: 1574.22 + 12742.40 = 14316.61\n",
      "Year 71: 1662.37 + 14147.81 = 15810.18\n",
      "Year 72: 6023.41, 17346.68\n",
      "Year 73: 6154.72, 17724.84\n",
      "Year 74: 6215.66, 17900.32\n",
      "Year 75: 6333.75, 18240.42\n",
      "Year 76: 6454.10, 18586.99\n",
      "Year 77: 6609.64, 19034.94\n",
      "Year 78: 6822.47, 19647.86\n",
      "Year 79: 6839.53, 19696.98\n",
      "Year 80: 6953.75, 20025.92\n",
      "Year 81: 7105.34, 20462.49\n",
      "Year 82: 7224.00, 20804.21\n",
      "Year 83: 7361.25, 21199.49\n",
      "Year 84: 7595.34, 21873.64\n",
      "Year 85: 7918.14, 22803.27\n",
      "Year 86: 8068.59, 23236.53\n",
      "Year 87: 8328.40, 23984.74\n",
      "Year 88: 8615.72, 24812.22\n",
      "Year 89: 8796.66, 25333.27\n"
     ]
    }
   ],
   "source": [
    "# one simulation\n",
    "beitrag = hochstbeitrag_2024\n",
    "zusatz = zusatz_value\n",
    "zusatz_percent = zusatz_percent_2024\n",
    "rente = rente_anspruch\n",
    "for year in range(age_2024, age_rente):\n",
    "#     yearly_increace = np.random.choice(insurance_increase)\n",
    "#     zusatz_yearly = np.random.choice(zusatz_percentage)\n",
    "#     rente_increase = np.random.choice(renteanpassung['Rentenanpassung West'].values)\n",
    "#     # print(f\"Year {year}: {yearly_increace:.2f}, {zusatz_yearly_increase:.2f}\")\n",
    "\n",
    "#     beitrag = beitrag * (1 + yearly_increace / 100)\n",
    "#     zusatz = zusatz * (1 + zusatz_yearly_increase / 100)\n",
    "\n",
    "#     rente = rente * (1 + rente_increase / 100)\n",
    "\n",
    "#     print(f\"Year {year}: {beitrag:.2f} + {zusatz:.2f} = {beitrag + zusatz:.2f}\")\n",
    "\n",
    "# for year in range(age_rente, expected_life):\n",
    "#     rente_increase = np.random.choice(renteanpassung['Rentenanpassung West'].values)\n",
    "#     rente = rente * (1 + rente_increase / 100)\n",
    "\n",
    "#     zusatz_yearly_increase = np.random.choice(zusatz_increase)\n",
    "\n",
    "    \n",
    "\n",
    "    # gkv_preis = ((14.6) / 100) * rente \n",
    "\n",
    "    # print(f\"Year {year}: {rente:.2f}, {gkv_preis:.2f}\")"
   ]
  },
  {
   "cell_type": "code",
   "execution_count": 18,
   "metadata": {},
   "outputs": [
    {
     "data": {
      "text/plain": [
       "np.float64(273.38757544314785)"
      ]
     },
     "execution_count": 18,
     "metadata": {},
     "output_type": "execute_result"
    }
   ],
   "source": [
    "zusatz_percent"
   ]
  },
  {
   "cell_type": "code",
   "execution_count": null,
   "metadata": {},
   "outputs": [],
   "source": []
  }
 ],
 "metadata": {
  "kernelspec": {
   "display_name": "gkv",
   "language": "python",
   "name": "python3"
  },
  "language_info": {
   "codemirror_mode": {
    "name": "ipython",
    "version": 3
   },
   "file_extension": ".py",
   "mimetype": "text/x-python",
   "name": "python",
   "nbconvert_exporter": "python",
   "pygments_lexer": "ipython3",
   "version": "3.11.6"
  }
 },
 "nbformat": 4,
 "nbformat_minor": 2
}
